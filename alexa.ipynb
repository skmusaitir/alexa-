{
  "nbformat": 4,
  "nbformat_minor": 0,
  "metadata": {
    "colab": {
      "name": "alexa",
      "provenance": [],
      "collapsed_sections": [],
      "authorship_tag": "ABX9TyOcLe2xvtmFbKYlQciRKikx",
      "include_colab_link": true
    },
    "kernelspec": {
      "name": "python3",
      "display_name": "Python 3"
    },
    "language_info": {
      "name": "python"
    }
  },
  "cells": [
    {
      "cell_type": "markdown",
      "metadata": {
        "id": "view-in-github",
        "colab_type": "text"
      },
      "source": [
        "<a href=\"https://colab.research.google.com/github/skmusaitir/alexa-/blob/main/alexa.ipynb\" target=\"_parent\"><img src=\"https://colab.research.google.com/assets/colab-badge.svg\" alt=\"Open In Colab\"/></a>"
      ]
    },
    {
      "cell_type": "code",
      "execution_count": null,
      "metadata": {
        "id": "8B9IaY52nuYM"
      },
      "outputs": [],
      "source": [
        "pip install speechrecognition"
      ]
    },
    {
      "cell_type": "code",
      "source": [
        "pip install pyttsx3"
      ],
      "metadata": {
        "id": "45foBWw2nw5v"
      },
      "execution_count": null,
      "outputs": []
    },
    {
      "cell_type": "code",
      "source": [
        "conda install -c anaconda pyaudio"
      ],
      "metadata": {
        "id": "EjhL5LzRoNzp"
      },
      "execution_count": null,
      "outputs": []
    },
    {
      "cell_type": "code",
      "source": [
        "pip install pywhatkit"
      ],
      "metadata": {
        "id": "azxamUPZn5bp"
      },
      "execution_count": null,
      "outputs": []
    },
    {
      "cell_type": "code",
      "source": [
        "pip install wikipedia"
      ],
      "metadata": {
        "id": "50vP2E2voDIy"
      },
      "execution_count": null,
      "outputs": []
    },
    {
      "cell_type": "code",
      "source": [
        "import speech_recognition as sr#to import sr\n",
        "import pyttsx3#to import python texture\n",
        "import pywhatkit\n",
        "import datetime#to import time \n",
        "import wikipedia#to import anything from wiki\n",
        "\n",
        "listener = sr.Recognizer()\n",
        "engine = pyttsx3.init()\n",
        "voices = engine.getProperty('voices')\n",
        "engine.setProperty('voice',voices[1].id)#voice [1]=female voice,[0]=male\n",
        "\n",
        "\n",
        "def talk(text):\n",
        "    engine.say(text)\n",
        "    engine.runAndWait()\n",
        "\n",
        "\n",
        "def take_command():   \n",
        "    try:\n",
        "        with sr.Microphone() as source:#to use microphone\n",
        "            print('listening..')\n",
        "            voice = listener.listen(source)\n",
        "            command = listener.recognize_google(voice)\n",
        "            command = command.lower()\n",
        "            if 'alexa' in command:\n",
        "                command = command.replace('alexa','')\n",
        "                #engine.say(command)\n",
        "                #engine.runAndWait()\n",
        "                #print(command)\n",
        "    except:\n",
        "        pass\n",
        "    return command\n",
        "\n",
        "def run_alexa():\n",
        "    command= take_command()\n",
        "    print(command)\n",
        "    if 'play' in command :\n",
        "        song = command.replace('play','')\n",
        "        talk('playing' + song)\n",
        "        pywhatkit.playonyt(song)\n",
        "    elif 'time' in command:\n",
        "        time = datetime.datetime.now().strftime('%I:%M %p')\n",
        "        print(time)\n",
        "        talk('current time is' + time)\n",
        "    elif 'tell me about' in command:\n",
        "        wiki = command.replace('tell me about','')\n",
        "        info = wikipedia.summary(wiki, 2)\n",
        "        print(info)\n",
        "        talk(info)\n",
        "    else:\n",
        "        print('say something valid')\n",
        "        talk('say something valid')\n",
        "\n",
        "while True:\n",
        "    run_alexa()    "
      ],
      "metadata": {
        "id": "Eqqn4ItLou9J"
      },
      "execution_count": null,
      "outputs": []
    }
  ]
}